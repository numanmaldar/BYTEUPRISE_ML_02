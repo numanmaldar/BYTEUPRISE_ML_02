{
  "nbformat": 4,
  "nbformat_minor": 0,
  "metadata": {
    "colab": {
      "provenance": []
    },
    "kernelspec": {
      "name": "python3",
      "display_name": "Python 3"
    }
  },
  "cells": [
    {
      "cell_type": "markdown",
      "metadata": {
        "id": "m3PAEPRDRLA3"
      },
      "source": [
        "# Support Vector Regression (SVR)"
      ]
    },
    {
      "cell_type": "markdown",
      "metadata": {
        "id": "0VCUAVIjRdzZ"
      },
      "source": [
        "## Importing the libraries"
      ]
    },
    {
      "cell_type": "code",
      "metadata": {
        "id": "56oRF-QfSDzC"
      },
      "source": [
        "import numpy as np\n",
        "import matplotlib.pyplot as plt\n",
        "import pandas as pd"
      ],
      "execution_count": 1,
      "outputs": []
    },
    {
      "cell_type": "markdown",
      "metadata": {
        "id": "fXVXoFWtSF4_"
      },
      "source": [
        "## Importing the dataset"
      ]
    },
    {
      "cell_type": "code",
      "metadata": {
        "id": "xfoa8OSORfHQ"
      },
      "source": [
        "data = pd.read_csv('ratings_sample.csv')\n",
        "data = data.drop('overview', axis=1)"
      ],
      "execution_count": 2,
      "outputs": []
    },
    {
      "cell_type": "code",
      "source": [
        "data.head()"
      ],
      "metadata": {
        "id": "VocFsMaSRai3",
        "colab": {
          "base_uri": "https://localhost:8080/",
          "height": 293
        },
        "outputId": "193d932f-b3e5-49f7-f79f-f1eee826a749"
      },
      "execution_count": 3,
      "outputs": [
        {
          "output_type": "execute_result",
          "data": {
            "text/plain": [
              "   user_id                    movie_id  rating  \\\n",
              "0    93787      gods+and+monsters+1998       4   \n",
              "1   197858               stargate+1994       3   \n",
              "2    76204              toy+story+1995       3   \n",
              "3   667201  friends+with+benefits+2011       4   \n",
              "4   336750                sleeper+1973       4   \n",
              "\n",
              "                             genres  \\\n",
              "0                             Drama   \n",
              "1  Action Adventure Science Fiction   \n",
              "2           Animation Comedy Family   \n",
              "3                    Romance Comedy   \n",
              "4    Comedy Romance Science Fiction   \n",
              "\n",
              "                                production_companies  \\\n",
              "0  Lions Gate Films Flashpoint (I) Showtime Networks   \n",
              "1  Centropolis Entertainment StudioCanal Carolco ...   \n",
              "2                            Pixar Animation Studios   \n",
              "3  Castle Rock Entertainment Screen Gems Olive Br...   \n",
              "4                          Rollins-Joffe Productions   \n",
              "\n",
              "                      production_countries  release_year  \n",
              "0  United Kingdom United States of America        1998.0  \n",
              "1          France United States of America        1994.0  \n",
              "2                 United States of America        1995.0  \n",
              "3                 United States of America        2011.0  \n",
              "4                 United States of America        1973.0  "
            ],
            "text/html": [
              "\n",
              "  <div id=\"df-ba3013d3-4cf6-45e7-b8e7-1a77accbb0e6\" class=\"colab-df-container\">\n",
              "    <div>\n",
              "<style scoped>\n",
              "    .dataframe tbody tr th:only-of-type {\n",
              "        vertical-align: middle;\n",
              "    }\n",
              "\n",
              "    .dataframe tbody tr th {\n",
              "        vertical-align: top;\n",
              "    }\n",
              "\n",
              "    .dataframe thead th {\n",
              "        text-align: right;\n",
              "    }\n",
              "</style>\n",
              "<table border=\"1\" class=\"dataframe\">\n",
              "  <thead>\n",
              "    <tr style=\"text-align: right;\">\n",
              "      <th></th>\n",
              "      <th>user_id</th>\n",
              "      <th>movie_id</th>\n",
              "      <th>rating</th>\n",
              "      <th>genres</th>\n",
              "      <th>production_companies</th>\n",
              "      <th>production_countries</th>\n",
              "      <th>release_year</th>\n",
              "    </tr>\n",
              "  </thead>\n",
              "  <tbody>\n",
              "    <tr>\n",
              "      <th>0</th>\n",
              "      <td>93787</td>\n",
              "      <td>gods+and+monsters+1998</td>\n",
              "      <td>4</td>\n",
              "      <td>Drama</td>\n",
              "      <td>Lions Gate Films Flashpoint (I) Showtime Networks</td>\n",
              "      <td>United Kingdom United States of America</td>\n",
              "      <td>1998.0</td>\n",
              "    </tr>\n",
              "    <tr>\n",
              "      <th>1</th>\n",
              "      <td>197858</td>\n",
              "      <td>stargate+1994</td>\n",
              "      <td>3</td>\n",
              "      <td>Action Adventure Science Fiction</td>\n",
              "      <td>Centropolis Entertainment StudioCanal Carolco ...</td>\n",
              "      <td>France United States of America</td>\n",
              "      <td>1994.0</td>\n",
              "    </tr>\n",
              "    <tr>\n",
              "      <th>2</th>\n",
              "      <td>76204</td>\n",
              "      <td>toy+story+1995</td>\n",
              "      <td>3</td>\n",
              "      <td>Animation Comedy Family</td>\n",
              "      <td>Pixar Animation Studios</td>\n",
              "      <td>United States of America</td>\n",
              "      <td>1995.0</td>\n",
              "    </tr>\n",
              "    <tr>\n",
              "      <th>3</th>\n",
              "      <td>667201</td>\n",
              "      <td>friends+with+benefits+2011</td>\n",
              "      <td>4</td>\n",
              "      <td>Romance Comedy</td>\n",
              "      <td>Castle Rock Entertainment Screen Gems Olive Br...</td>\n",
              "      <td>United States of America</td>\n",
              "      <td>2011.0</td>\n",
              "    </tr>\n",
              "    <tr>\n",
              "      <th>4</th>\n",
              "      <td>336750</td>\n",
              "      <td>sleeper+1973</td>\n",
              "      <td>4</td>\n",
              "      <td>Comedy Romance Science Fiction</td>\n",
              "      <td>Rollins-Joffe Productions</td>\n",
              "      <td>United States of America</td>\n",
              "      <td>1973.0</td>\n",
              "    </tr>\n",
              "  </tbody>\n",
              "</table>\n",
              "</div>\n",
              "    <div class=\"colab-df-buttons\">\n",
              "\n",
              "  <div class=\"colab-df-container\">\n",
              "    <button class=\"colab-df-convert\" onclick=\"convertToInteractive('df-ba3013d3-4cf6-45e7-b8e7-1a77accbb0e6')\"\n",
              "            title=\"Convert this dataframe to an interactive table.\"\n",
              "            style=\"display:none;\">\n",
              "\n",
              "  <svg xmlns=\"http://www.w3.org/2000/svg\" height=\"24px\" viewBox=\"0 -960 960 960\">\n",
              "    <path d=\"M120-120v-720h720v720H120Zm60-500h600v-160H180v160Zm220 220h160v-160H400v160Zm0 220h160v-160H400v160ZM180-400h160v-160H180v160Zm440 0h160v-160H620v160ZM180-180h160v-160H180v160Zm440 0h160v-160H620v160Z\"/>\n",
              "  </svg>\n",
              "    </button>\n",
              "\n",
              "  <style>\n",
              "    .colab-df-container {\n",
              "      display:flex;\n",
              "      gap: 12px;\n",
              "    }\n",
              "\n",
              "    .colab-df-convert {\n",
              "      background-color: #E8F0FE;\n",
              "      border: none;\n",
              "      border-radius: 50%;\n",
              "      cursor: pointer;\n",
              "      display: none;\n",
              "      fill: #1967D2;\n",
              "      height: 32px;\n",
              "      padding: 0 0 0 0;\n",
              "      width: 32px;\n",
              "    }\n",
              "\n",
              "    .colab-df-convert:hover {\n",
              "      background-color: #E2EBFA;\n",
              "      box-shadow: 0px 1px 2px rgba(60, 64, 67, 0.3), 0px 1px 3px 1px rgba(60, 64, 67, 0.15);\n",
              "      fill: #174EA6;\n",
              "    }\n",
              "\n",
              "    .colab-df-buttons div {\n",
              "      margin-bottom: 4px;\n",
              "    }\n",
              "\n",
              "    [theme=dark] .colab-df-convert {\n",
              "      background-color: #3B4455;\n",
              "      fill: #D2E3FC;\n",
              "    }\n",
              "\n",
              "    [theme=dark] .colab-df-convert:hover {\n",
              "      background-color: #434B5C;\n",
              "      box-shadow: 0px 1px 3px 1px rgba(0, 0, 0, 0.15);\n",
              "      filter: drop-shadow(0px 1px 2px rgba(0, 0, 0, 0.3));\n",
              "      fill: #FFFFFF;\n",
              "    }\n",
              "  </style>\n",
              "\n",
              "    <script>\n",
              "      const buttonEl =\n",
              "        document.querySelector('#df-ba3013d3-4cf6-45e7-b8e7-1a77accbb0e6 button.colab-df-convert');\n",
              "      buttonEl.style.display =\n",
              "        google.colab.kernel.accessAllowed ? 'block' : 'none';\n",
              "\n",
              "      async function convertToInteractive(key) {\n",
              "        const element = document.querySelector('#df-ba3013d3-4cf6-45e7-b8e7-1a77accbb0e6');\n",
              "        const dataTable =\n",
              "          await google.colab.kernel.invokeFunction('convertToInteractive',\n",
              "                                                    [key], {});\n",
              "        if (!dataTable) return;\n",
              "\n",
              "        const docLinkHtml = 'Like what you see? Visit the ' +\n",
              "          '<a target=\"_blank\" href=https://colab.research.google.com/notebooks/data_table.ipynb>data table notebook</a>'\n",
              "          + ' to learn more about interactive tables.';\n",
              "        element.innerHTML = '';\n",
              "        dataTable['output_type'] = 'display_data';\n",
              "        await google.colab.output.renderOutput(dataTable, element);\n",
              "        const docLink = document.createElement('div');\n",
              "        docLink.innerHTML = docLinkHtml;\n",
              "        element.appendChild(docLink);\n",
              "      }\n",
              "    </script>\n",
              "  </div>\n",
              "\n",
              "\n",
              "<div id=\"df-006a070b-f4f8-4375-a165-5c1da4065573\">\n",
              "  <button class=\"colab-df-quickchart\" onclick=\"quickchart('df-006a070b-f4f8-4375-a165-5c1da4065573')\"\n",
              "            title=\"Suggest charts\"\n",
              "            style=\"display:none;\">\n",
              "\n",
              "<svg xmlns=\"http://www.w3.org/2000/svg\" height=\"24px\"viewBox=\"0 0 24 24\"\n",
              "     width=\"24px\">\n",
              "    <g>\n",
              "        <path d=\"M19 3H5c-1.1 0-2 .9-2 2v14c0 1.1.9 2 2 2h14c1.1 0 2-.9 2-2V5c0-1.1-.9-2-2-2zM9 17H7v-7h2v7zm4 0h-2V7h2v10zm4 0h-2v-4h2v4z\"/>\n",
              "    </g>\n",
              "</svg>\n",
              "  </button>\n",
              "\n",
              "<style>\n",
              "  .colab-df-quickchart {\n",
              "      --bg-color: #E8F0FE;\n",
              "      --fill-color: #1967D2;\n",
              "      --hover-bg-color: #E2EBFA;\n",
              "      --hover-fill-color: #174EA6;\n",
              "      --disabled-fill-color: #AAA;\n",
              "      --disabled-bg-color: #DDD;\n",
              "  }\n",
              "\n",
              "  [theme=dark] .colab-df-quickchart {\n",
              "      --bg-color: #3B4455;\n",
              "      --fill-color: #D2E3FC;\n",
              "      --hover-bg-color: #434B5C;\n",
              "      --hover-fill-color: #FFFFFF;\n",
              "      --disabled-bg-color: #3B4455;\n",
              "      --disabled-fill-color: #666;\n",
              "  }\n",
              "\n",
              "  .colab-df-quickchart {\n",
              "    background-color: var(--bg-color);\n",
              "    border: none;\n",
              "    border-radius: 50%;\n",
              "    cursor: pointer;\n",
              "    display: none;\n",
              "    fill: var(--fill-color);\n",
              "    height: 32px;\n",
              "    padding: 0;\n",
              "    width: 32px;\n",
              "  }\n",
              "\n",
              "  .colab-df-quickchart:hover {\n",
              "    background-color: var(--hover-bg-color);\n",
              "    box-shadow: 0 1px 2px rgba(60, 64, 67, 0.3), 0 1px 3px 1px rgba(60, 64, 67, 0.15);\n",
              "    fill: var(--button-hover-fill-color);\n",
              "  }\n",
              "\n",
              "  .colab-df-quickchart-complete:disabled,\n",
              "  .colab-df-quickchart-complete:disabled:hover {\n",
              "    background-color: var(--disabled-bg-color);\n",
              "    fill: var(--disabled-fill-color);\n",
              "    box-shadow: none;\n",
              "  }\n",
              "\n",
              "  .colab-df-spinner {\n",
              "    border: 2px solid var(--fill-color);\n",
              "    border-color: transparent;\n",
              "    border-bottom-color: var(--fill-color);\n",
              "    animation:\n",
              "      spin 1s steps(1) infinite;\n",
              "  }\n",
              "\n",
              "  @keyframes spin {\n",
              "    0% {\n",
              "      border-color: transparent;\n",
              "      border-bottom-color: var(--fill-color);\n",
              "      border-left-color: var(--fill-color);\n",
              "    }\n",
              "    20% {\n",
              "      border-color: transparent;\n",
              "      border-left-color: var(--fill-color);\n",
              "      border-top-color: var(--fill-color);\n",
              "    }\n",
              "    30% {\n",
              "      border-color: transparent;\n",
              "      border-left-color: var(--fill-color);\n",
              "      border-top-color: var(--fill-color);\n",
              "      border-right-color: var(--fill-color);\n",
              "    }\n",
              "    40% {\n",
              "      border-color: transparent;\n",
              "      border-right-color: var(--fill-color);\n",
              "      border-top-color: var(--fill-color);\n",
              "    }\n",
              "    60% {\n",
              "      border-color: transparent;\n",
              "      border-right-color: var(--fill-color);\n",
              "    }\n",
              "    80% {\n",
              "      border-color: transparent;\n",
              "      border-right-color: var(--fill-color);\n",
              "      border-bottom-color: var(--fill-color);\n",
              "    }\n",
              "    90% {\n",
              "      border-color: transparent;\n",
              "      border-bottom-color: var(--fill-color);\n",
              "    }\n",
              "  }\n",
              "</style>\n",
              "\n",
              "  <script>\n",
              "    async function quickchart(key) {\n",
              "      const quickchartButtonEl =\n",
              "        document.querySelector('#' + key + ' button');\n",
              "      quickchartButtonEl.disabled = true;  // To prevent multiple clicks.\n",
              "      quickchartButtonEl.classList.add('colab-df-spinner');\n",
              "      try {\n",
              "        const charts = await google.colab.kernel.invokeFunction(\n",
              "            'suggestCharts', [key], {});\n",
              "      } catch (error) {\n",
              "        console.error('Error during call to suggestCharts:', error);\n",
              "      }\n",
              "      quickchartButtonEl.classList.remove('colab-df-spinner');\n",
              "      quickchartButtonEl.classList.add('colab-df-quickchart-complete');\n",
              "    }\n",
              "    (() => {\n",
              "      let quickchartButtonEl =\n",
              "        document.querySelector('#df-006a070b-f4f8-4375-a165-5c1da4065573 button');\n",
              "      quickchartButtonEl.style.display =\n",
              "        google.colab.kernel.accessAllowed ? 'block' : 'none';\n",
              "    })();\n",
              "  </script>\n",
              "</div>\n",
              "\n",
              "    </div>\n",
              "  </div>\n"
            ],
            "application/vnd.google.colaboratory.intrinsic+json": {
              "type": "dataframe",
              "variable_name": "data",
              "summary": "{\n  \"name\": \"data\",\n  \"rows\": 1998,\n  \"fields\": [\n    {\n      \"column\": \"user_id\",\n      \"properties\": {\n        \"dtype\": \"number\",\n        \"std\": 290588,\n        \"min\": 56,\n        \"max\": 998652,\n        \"num_unique_values\": 1892,\n        \"samples\": [\n          606993,\n          525353,\n          48668\n        ],\n        \"semantic_type\": \"\",\n        \"description\": \"\"\n      }\n    },\n    {\n      \"column\": \"movie_id\",\n      \"properties\": {\n        \"dtype\": \"string\",\n        \"num_unique_values\": 1085,\n        \"samples\": [\n          \"the+phantom+1996\",\n          \"schindlers+list+1993\",\n          \"new+nightmare+1994\"\n        ],\n        \"semantic_type\": \"\",\n        \"description\": \"\"\n      }\n    },\n    {\n      \"column\": \"rating\",\n      \"properties\": {\n        \"dtype\": \"number\",\n        \"std\": 1,\n        \"min\": 1,\n        \"max\": 5,\n        \"num_unique_values\": 5,\n        \"samples\": [\n          3,\n          2,\n          1\n        ],\n        \"semantic_type\": \"\",\n        \"description\": \"\"\n      }\n    },\n    {\n      \"column\": \"genres\",\n      \"properties\": {\n        \"dtype\": \"category\",\n        \"num_unique_values\": 455,\n        \"samples\": [\n          \"Romance Drama Thriller Horror Mystery\",\n          \"Action Adventure Drama Mystery Science Fiction Thriller\",\n          \"Adventure Fantasy Drama\"\n        ],\n        \"semantic_type\": \"\",\n        \"description\": \"\"\n      }\n    },\n    {\n      \"column\": \"production_companies\",\n      \"properties\": {\n        \"dtype\": \"category\",\n        \"num_unique_values\": 825,\n        \"samples\": [\n          \"Twentieth Century Fox Film Corporation Morgan Creek Productions\",\n          \"Amblin Entertainment Hollywood Pictures Tangled Web Productions\",\n          \"Columbia Pictures Scott Rudin Productions Easy There Tiger Productions\"\n        ],\n        \"semantic_type\": \"\",\n        \"description\": \"\"\n      }\n    },\n    {\n      \"column\": \"production_countries\",\n      \"properties\": {\n        \"dtype\": \"category\",\n        \"num_unique_values\": 107,\n        \"samples\": [\n          \"Canada Italy United Kingdom\",\n          \"United Kingdom France\",\n          \"United States of America Canada\"\n        ],\n        \"semantic_type\": \"\",\n        \"description\": \"\"\n      }\n    },\n    {\n      \"column\": \"release_year\",\n      \"properties\": {\n        \"dtype\": \"number\",\n        \"std\": 13.15358473776052,\n        \"min\": 1922.0,\n        \"max\": 2014.0,\n        \"num_unique_values\": 82,\n        \"samples\": [\n          1962.0,\n          1998.0,\n          2007.0\n        ],\n        \"semantic_type\": \"\",\n        \"description\": \"\"\n      }\n    }\n  ]\n}"
            }
          },
          "metadata": {},
          "execution_count": 3
        }
      ]
    },
    {
      "cell_type": "code",
      "source": [
        "from sklearn.preprocessing import OneHotEncoder, LabelEncoder\n",
        "le = LabelEncoder()\n",
        "data['user_id'] = le.fit_transform(data['user_id'])\n",
        "data['movie_id'] = le.fit_transform(data['movie_id'])"
      ],
      "metadata": {
        "id": "CuhlU0-gM_sk"
      },
      "execution_count": 4,
      "outputs": []
    },
    {
      "cell_type": "code",
      "source": [
        "from sklearn.feature_extraction.text import TfidfVectorizer\n",
        "combined_text = data[['genres', 'production_companies', 'production_countries']].astype(str).apply(lambda x: ' '.join(x), axis=1)\n",
        "vectorizer = TfidfVectorizer()\n",
        "X_text = vectorizer.fit_transform(combined_text)\n",
        "X_year = data[['release_year']]"
      ],
      "metadata": {
        "id": "QBwmbuqeRohS"
      },
      "execution_count": 5,
      "outputs": []
    },
    {
      "cell_type": "code",
      "source": [
        "import scipy.sparse as sp\n",
        "X = sp.hstack((X_text, X_year))\n",
        "y = data['rating'].values"
      ],
      "metadata": {
        "id": "_-eQ__BFR7-P"
      },
      "execution_count": 6,
      "outputs": []
    },
    {
      "cell_type": "code",
      "source": [
        "print(X)"
      ],
      "metadata": {
        "id": "YjWmnuY5rd_c",
        "colab": {
          "base_uri": "https://localhost:8080/"
        },
        "outputId": "48a2565e-c767-4a10-d3fb-4c1c371d6fc4"
      },
      "execution_count": 7,
      "outputs": [
        {
          "output_type": "stream",
          "name": "stdout",
          "text": [
            "  (0, 48)\t0.06685363122711019\n",
            "  (0, 1056)\t0.06668601762694008\n",
            "  (0, 1362)\t0.06685363122711019\n",
            "  (0, 803)\t0.1883048467020235\n",
            "  (0, 1495)\t0.12896611450427223\n",
            "  (0, 1018)\t0.4292230094865342\n",
            "  (0, 1308)\t0.4605860802044465\n",
            "  (0, 557)\t0.4605860802044465\n",
            "  (0, 544)\t0.15460846350897628\n",
            "  (0, 592)\t0.3754720098430041\n",
            "  (0, 859)\t0.38666597430581295\n",
            "  (0, 411)\t0.10778745648669322\n",
            "  (1, 579)\t0.3046631552989525\n",
            "  (1, 221)\t0.43533855908927765\n",
            "  (1, 1375)\t0.45558857301689093\n",
            "  (1, 460)\t0.3657204481739613\n",
            "  (1, 237)\t0.43533855908927765\n",
            "  (1, 509)\t0.21740478343908054\n",
            "  (1, 1275)\t0.21740478343908054\n",
            "  (1, 20)\t0.18737779239011312\n",
            "  (1, 17)\t0.17512661480657477\n",
            "  (1, 48)\t0.08219436603878\n",
            "  (1, 1056)\t0.08198829056684852\n",
            "  (1, 1362)\t0.08219436603878\n",
            "  (1, 1495)\t0.07927982240899417\n",
            "  :\t:\n",
            "  (1973, 1612)\t1998.0\n",
            "  (1974, 1612)\t1996.0\n",
            "  (1975, 1612)\t1995.0\n",
            "  (1976, 1612)\t1990.0\n",
            "  (1977, 1612)\t1997.0\n",
            "  (1978, 1612)\t1989.0\n",
            "  (1979, 1612)\t2014.0\n",
            "  (1980, 1612)\t1994.0\n",
            "  (1981, 1612)\t2000.0\n",
            "  (1982, 1612)\t1996.0\n",
            "  (1983, 1612)\t1973.0\n",
            "  (1984, 1612)\t1993.0\n",
            "  (1985, 1612)\t1990.0\n",
            "  (1986, 1612)\t2002.0\n",
            "  (1987, 1612)\t1984.0\n",
            "  (1988, 1612)\t1992.0\n",
            "  (1989, 1612)\t1995.0\n",
            "  (1990, 1612)\t1999.0\n",
            "  (1991, 1612)\t1995.0\n",
            "  (1992, 1612)\t1990.0\n",
            "  (1993, 1612)\t2003.0\n",
            "  (1994, 1612)\t1982.0\n",
            "  (1995, 1612)\t1994.0\n",
            "  (1996, 1612)\t1985.0\n",
            "  (1997, 1612)\t1994.0\n"
          ]
        }
      ]
    },
    {
      "cell_type": "code",
      "source": [
        "print(y)"
      ],
      "metadata": {
        "id": "1a3zkD3frjs9",
        "colab": {
          "base_uri": "https://localhost:8080/"
        },
        "outputId": "4f63785d-3d78-4e46-bc81-7ac6552037e2"
      },
      "execution_count": 8,
      "outputs": [
        {
          "output_type": "stream",
          "name": "stdout",
          "text": [
            "[4 3 3 ... 3 5 4]\n"
          ]
        }
      ]
    },
    {
      "cell_type": "markdown",
      "metadata": {
        "id": "6Vk3nNlrCVCN"
      },
      "source": [
        "## Splitting the dataset into the Training set and Test set"
      ]
    },
    {
      "cell_type": "code",
      "metadata": {
        "id": "x_fXqrziCV3_"
      },
      "source": [
        "from sklearn.model_selection import train_test_split\n",
        "X_train, X_test, y_train, y_test = train_test_split(X, y, test_size=0.2, random_state=42)"
      ],
      "execution_count": 9,
      "outputs": []
    },
    {
      "cell_type": "code",
      "source": [
        "print(X_test)\n",
        "print(y_test)"
      ],
      "metadata": {
        "id": "mUT-9Ks1fduJ",
        "colab": {
          "base_uri": "https://localhost:8080/"
        },
        "outputId": "4f9f0b6f-3d1e-46d3-9d6c-5db259c91c39"
      },
      "execution_count": 10,
      "outputs": [
        {
          "output_type": "stream",
          "name": "stdout",
          "text": [
            "  (0, 48)\t0.14858718006983987\n",
            "  (0, 411)\t0.2395656587725282\n",
            "  (0, 495)\t0.4274363406131031\n",
            "  (0, 1000)\t0.4597705129955782\n",
            "  (0, 1056)\t0.14821464634603923\n",
            "  (0, 1091)\t0.4262896194256539\n",
            "  (0, 1117)\t0.22894527004045898\n",
            "  (0, 1235)\t0.3612287183911696\n",
            "  (0, 1362)\t0.14858718006983987\n",
            "  (0, 1439)\t0.3118149063967728\n",
            "  (0, 1495)\t0.14331840265830698\n",
            "  (0, 1612)\t1990.0\n",
            "  (1, 17)\t0.18863921317580248\n",
            "  (1, 20)\t0.20183567964315374\n",
            "  (1, 48)\t0.08853640295716636\n",
            "  (1, 91)\t0.45988512495648753\n",
            "  (1, 387)\t0.4791058440291911\n",
            "  (1, 509)\t0.23417952396270617\n",
            "  (1, 716)\t0.4738582312012423\n",
            "  (1, 1056)\t0.08831442690331\n",
            "  (1, 1091)\t0.2540067689836161\n",
            "  (1, 1117)\t0.1364181665868611\n",
            "  (1, 1275)\t0.23417952396270617\n",
            "  (1, 1362)\t0.08853640295716636\n",
            "  (1, 1439)\t0.18579644749849739\n",
            "  :\t:\n",
            "  (397, 1612)\t1998.0\n",
            "  (398, 48)\t0.19345798687079502\n",
            "  (398, 295)\t0.3710861050580075\n",
            "  (398, 411)\t0.31191042220281273\n",
            "  (398, 1056)\t0.1929729542844435\n",
            "  (398, 1091)\t0.5550218501975857\n",
            "  (398, 1117)\t0.2980828563056359\n",
            "  (398, 1235)\t0.47031366115856255\n",
            "  (398, 1362)\t0.19345798687079502\n",
            "  (398, 1495)\t0.18659812809410659\n",
            "  (398, 1612)\t1994.0\n",
            "  (399, 20)\t0.19843027165499297\n",
            "  (399, 48)\t0.08704260079886404\n",
            "  (399, 411)\t0.14033793488679755\n",
            "  (399, 544)\t0.20129830679833474\n",
            "  (399, 739)\t0.36716032434251744\n",
            "  (399, 803)\t0.24517058085139434\n",
            "  (399, 899)\t0.4958154189501466\n",
            "  (399, 1056)\t0.08682436996502191\n",
            "  (399, 1155)\t0.1746887330274693\n",
            "  (399, 1362)\t0.08704260079886404\n",
            "  (399, 1442)\t0.4888599117808079\n",
            "  (399, 1495)\t0.1679122856205277\n",
            "  (399, 1557)\t0.37319623988574824\n",
            "  (399, 1612)\t1990.0\n",
            "[3 4 4 5 3 3 3 4 4 4 5 1 4 5 3 3 2 3 5 3 4 4 5 5 4 3 4 4 3 5 3 5 1 3 4 2 3\n",
            " 4 4 3 5 5 5 2 5 4 5 4 3 5 3 4 3 5 4 5 2 5 4 4 2 5 5 3 2 4 3 3 3 4 5 4 5 5\n",
            " 5 1 5 4 3 3 1 4 5 5 5 2 4 3 5 3 4 1 5 5 2 3 4 4 3 4 4 3 5 4 3 5 5 4 3 5 5\n",
            " 3 3 2 4 3 4 2 4 5 3 4 3 3 3 5 4 3 3 3 5 3 3 4 4 4 4 4 3 1 4 5 5 3 5 3 1 3\n",
            " 3 5 4 4 2 4 5 5 2 4 4 5 4 5 5 4 5 5 2 3 4 4 3 5 5 4 4 4 5 3 4 5 4 5 2 4 5\n",
            " 4 3 5 5 4 4 2 5 4 4 3 5 5 3 4 4 5 5 4 2 3 2 4 3 5 3 5 4 5 4 3 4 4 3 2 3 3\n",
            " 4 3 2 3 4 5 2 5 5 4 4 5 5 3 1 1 3 1 1 5 4 2 4 2 4 4 3 3 3 3 4 3 4 4 4 5 5\n",
            " 4 3 4 3 4 3 4 4 4 4 5 3 3 3 3 3 4 5 2 4 3 3 5 4 4 3 2 4 5 3 2 4 3 5 5 3 5\n",
            " 4 5 3 5 3 4 3 5 2 3 3 3 5 4 3 3 4 3 5 4 5 1 5 5 4 3 3 5 3 4 4 5 5 4 4 5 5\n",
            " 5 4 5 2 3 5 3 3 4 4 4 5 5 3 2 4 4 5 4 3 3 3 4 4 5 3 4 3 4 5 4 3 4 2 5 4 5\n",
            " 5 2 3 3 3 5 4 3 1 3 2 4 3 3 4 4 2 4 3 5 5 3 5 4 3 5 3 5 5 4]\n"
          ]
        }
      ]
    },
    {
      "cell_type": "markdown",
      "metadata": {
        "id": "YS8FeLHYS-nI"
      },
      "source": [
        "## Feature Scaling"
      ]
    },
    {
      "cell_type": "markdown",
      "metadata": {
        "id": "eiU6D2QFRjxY"
      },
      "source": [
        "## Training the Random Forest model on the Training set"
      ]
    },
    {
      "cell_type": "code",
      "source": [
        "from sklearn.ensemble import RandomForestRegressor\n",
        "\n",
        "model = RandomForestRegressor(random_state=42)\n",
        "model.fit(X_train, y_train)"
      ],
      "metadata": {
        "id": "4FpCyng9xjPv",
        "colab": {
          "base_uri": "https://localhost:8080/",
          "height": 74
        },
        "outputId": "cf9f5b13-9211-46c8-9846-a2f965e98cf1"
      },
      "execution_count": 11,
      "outputs": [
        {
          "output_type": "execute_result",
          "data": {
            "text/plain": [
              "RandomForestRegressor(random_state=42)"
            ],
            "text/html": [
              "<style>#sk-container-id-1 {color: black;background-color: white;}#sk-container-id-1 pre{padding: 0;}#sk-container-id-1 div.sk-toggleable {background-color: white;}#sk-container-id-1 label.sk-toggleable__label {cursor: pointer;display: block;width: 100%;margin-bottom: 0;padding: 0.3em;box-sizing: border-box;text-align: center;}#sk-container-id-1 label.sk-toggleable__label-arrow:before {content: \"▸\";float: left;margin-right: 0.25em;color: #696969;}#sk-container-id-1 label.sk-toggleable__label-arrow:hover:before {color: black;}#sk-container-id-1 div.sk-estimator:hover label.sk-toggleable__label-arrow:before {color: black;}#sk-container-id-1 div.sk-toggleable__content {max-height: 0;max-width: 0;overflow: hidden;text-align: left;background-color: #f0f8ff;}#sk-container-id-1 div.sk-toggleable__content pre {margin: 0.2em;color: black;border-radius: 0.25em;background-color: #f0f8ff;}#sk-container-id-1 input.sk-toggleable__control:checked~div.sk-toggleable__content {max-height: 200px;max-width: 100%;overflow: auto;}#sk-container-id-1 input.sk-toggleable__control:checked~label.sk-toggleable__label-arrow:before {content: \"▾\";}#sk-container-id-1 div.sk-estimator input.sk-toggleable__control:checked~label.sk-toggleable__label {background-color: #d4ebff;}#sk-container-id-1 div.sk-label input.sk-toggleable__control:checked~label.sk-toggleable__label {background-color: #d4ebff;}#sk-container-id-1 input.sk-hidden--visually {border: 0;clip: rect(1px 1px 1px 1px);clip: rect(1px, 1px, 1px, 1px);height: 1px;margin: -1px;overflow: hidden;padding: 0;position: absolute;width: 1px;}#sk-container-id-1 div.sk-estimator {font-family: monospace;background-color: #f0f8ff;border: 1px dotted black;border-radius: 0.25em;box-sizing: border-box;margin-bottom: 0.5em;}#sk-container-id-1 div.sk-estimator:hover {background-color: #d4ebff;}#sk-container-id-1 div.sk-parallel-item::after {content: \"\";width: 100%;border-bottom: 1px solid gray;flex-grow: 1;}#sk-container-id-1 div.sk-label:hover label.sk-toggleable__label {background-color: #d4ebff;}#sk-container-id-1 div.sk-serial::before {content: \"\";position: absolute;border-left: 1px solid gray;box-sizing: border-box;top: 0;bottom: 0;left: 50%;z-index: 0;}#sk-container-id-1 div.sk-serial {display: flex;flex-direction: column;align-items: center;background-color: white;padding-right: 0.2em;padding-left: 0.2em;position: relative;}#sk-container-id-1 div.sk-item {position: relative;z-index: 1;}#sk-container-id-1 div.sk-parallel {display: flex;align-items: stretch;justify-content: center;background-color: white;position: relative;}#sk-container-id-1 div.sk-item::before, #sk-container-id-1 div.sk-parallel-item::before {content: \"\";position: absolute;border-left: 1px solid gray;box-sizing: border-box;top: 0;bottom: 0;left: 50%;z-index: -1;}#sk-container-id-1 div.sk-parallel-item {display: flex;flex-direction: column;z-index: 1;position: relative;background-color: white;}#sk-container-id-1 div.sk-parallel-item:first-child::after {align-self: flex-end;width: 50%;}#sk-container-id-1 div.sk-parallel-item:last-child::after {align-self: flex-start;width: 50%;}#sk-container-id-1 div.sk-parallel-item:only-child::after {width: 0;}#sk-container-id-1 div.sk-dashed-wrapped {border: 1px dashed gray;margin: 0 0.4em 0.5em 0.4em;box-sizing: border-box;padding-bottom: 0.4em;background-color: white;}#sk-container-id-1 div.sk-label label {font-family: monospace;font-weight: bold;display: inline-block;line-height: 1.2em;}#sk-container-id-1 div.sk-label-container {text-align: center;}#sk-container-id-1 div.sk-container {/* jupyter's `normalize.less` sets `[hidden] { display: none; }` but bootstrap.min.css set `[hidden] { display: none !important; }` so we also need the `!important` here to be able to override the default hidden behavior on the sphinx rendered scikit-learn.org. See: https://github.com/scikit-learn/scikit-learn/issues/21755 */display: inline-block !important;position: relative;}#sk-container-id-1 div.sk-text-repr-fallback {display: none;}</style><div id=\"sk-container-id-1\" class=\"sk-top-container\"><div class=\"sk-text-repr-fallback\"><pre>RandomForestRegressor(random_state=42)</pre><b>In a Jupyter environment, please rerun this cell to show the HTML representation or trust the notebook. <br />On GitHub, the HTML representation is unable to render, please try loading this page with nbviewer.org.</b></div><div class=\"sk-container\" hidden><div class=\"sk-item\"><div class=\"sk-estimator sk-toggleable\"><input class=\"sk-toggleable__control sk-hidden--visually\" id=\"sk-estimator-id-1\" type=\"checkbox\" checked><label for=\"sk-estimator-id-1\" class=\"sk-toggleable__label sk-toggleable__label-arrow\">RandomForestRegressor</label><div class=\"sk-toggleable__content\"><pre>RandomForestRegressor(random_state=42)</pre></div></div></div></div></div>"
            ]
          },
          "metadata": {},
          "execution_count": 11
        }
      ]
    },
    {
      "cell_type": "code",
      "metadata": {
        "id": "vSqFVDYrDROW"
      },
      "source": [
        "y_pred = model.predict(X_test)"
      ],
      "execution_count": 14,
      "outputs": []
    },
    {
      "cell_type": "code",
      "source": [
        "from sklearn.metrics import mean_squared_error\n",
        "mse = mean_squared_error(y_test, y_pred)\n",
        "print(\"Mean Squared Error:\", mse)"
      ],
      "metadata": {
        "id": "7dsqP_cCvC62",
        "colab": {
          "base_uri": "https://localhost:8080/"
        },
        "outputId": "7adc5b0f-bd14-4a4c-d233-7ffbca238cde"
      },
      "execution_count": 15,
      "outputs": [
        {
          "output_type": "stream",
          "name": "stdout",
          "text": [
            "Mean Squared Error: 1.1238373276042202\n"
          ]
        }
      ]
    },
    {
      "cell_type": "markdown",
      "metadata": {
        "id": "CMsYlps2DX1d"
      },
      "source": [
        "## Evaluating the Model Performance"
      ]
    },
    {
      "cell_type": "code",
      "metadata": {
        "id": "HxsRWlURDr6S",
        "colab": {
          "base_uri": "https://localhost:8080/"
        },
        "outputId": "494b0325-5c9a-47b1-9532-9d520aeb9c8a"
      },
      "source": [
        "from sklearn.metrics import r2_score\n",
        "r2_score(y_test, y_pred)"
      ],
      "execution_count": 16,
      "outputs": [
        {
          "output_type": "execute_result",
          "data": {
            "text/plain": [
              "-0.01511817144270644"
            ]
          },
          "metadata": {},
          "execution_count": 16
        }
      ]
    },
    {
      "cell_type": "code",
      "source": [
        "from sklearn.metrics import  accuracy_score\n",
        "y_pred_rounded = y_pred.round()\n",
        "accuracy = accuracy_score(y_test, y_pred_rounded)\n",
        "print(f'Accuracy: {accuracy:.2f}')"
      ],
      "metadata": {
        "id": "tnVm91MQJbS5",
        "colab": {
          "base_uri": "https://localhost:8080/"
        },
        "outputId": "5dc7711f-ac4f-4187-b7e0-2e9be1c3b7d8"
      },
      "execution_count": 17,
      "outputs": [
        {
          "output_type": "stream",
          "name": "stdout",
          "text": [
            "Accuracy: 0.35\n"
          ]
        }
      ]
    }
  ]
}